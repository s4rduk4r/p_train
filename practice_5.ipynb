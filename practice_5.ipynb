{
 "cells": [
  {
   "cell_type": "markdown",
   "metadata": {},
   "source": [
    "# Практика 5\n",
    "\n",
    "## Знакомство с pandas\n",
    "\n",
    "### Шаг 1. Импорт библиотек\n",
    "\n",
    "```python\n",
    "import pandas as pd\n",
    "```"
   ]
  },
  {
   "cell_type": "code",
   "execution_count": null,
   "metadata": {},
   "outputs": [],
   "source": []
  },
  {
   "cell_type": "markdown",
   "metadata": {},
   "source": [
    "### Шаг 2. Загрузка набора данных\n",
    "Загрузите набор данных по удельной смертности (на 100000 человек) от лёгочной формы рака за 2022г - [ссылка](\"https://raw.githubusercontent.com/owid/owid-datasets/master/datasets/Lung%20cancer%20mortality%20rates%20(per%20100%2C000)%20(2022)/Lung%20cancer%20mortality%20rates%20(per%20100%2C000)%20(2022).csv\") \n",
    "\n",
    "Используйте функцию `pd.read_csv()`\n",
    "\n",
    "### Шаг 3. Присвоение загруженного набора данных переменной `mortality`\n",
    "\n",
    "Пример: `df = pd.read_csv(\"путь/к/набору/данных.csv\")`"
   ]
  },
  {
   "cell_type": "code",
   "execution_count": null,
   "metadata": {},
   "outputs": [],
   "source": []
  },
  {
   "cell_type": "markdown",
   "metadata": {},
   "source": [
    "### Шаг 4. Получить информацию о наборе данных\n",
    "\n",
    "Метод: `info()`"
   ]
  },
  {
   "cell_type": "code",
   "execution_count": null,
   "metadata": {},
   "outputs": [],
   "source": []
  },
  {
   "cell_type": "markdown",
   "metadata": {},
   "source": [
    "### Шаг 5. Выведите имена колонок\n",
    "\n",
    "Пример: `df.columns`"
   ]
  },
  {
   "cell_type": "code",
   "execution_count": null,
   "metadata": {},
   "outputs": [],
   "source": []
  },
  {
   "cell_type": "markdown",
   "metadata": {},
   "source": [
    "### Шаг 6. Переименуйте колонки так, чтобы они соответствовали конвенции snake_case\n",
    "\n",
    "Пример: `df.rename(columns = {\"старое-имя\": \"новое_имя\"})`"
   ]
  },
  {
   "cell_type": "code",
   "execution_count": null,
   "metadata": {},
   "outputs": [],
   "source": []
  },
  {
   "cell_type": "markdown",
   "metadata": {},
   "source": [
    "### Шаг 6. Показать первые 10 элементов\n",
    "\n",
    "Используйте метод `head()`"
   ]
  },
  {
   "cell_type": "code",
   "execution_count": null,
   "metadata": {},
   "outputs": [],
   "source": []
  },
  {
   "cell_type": "markdown",
   "metadata": {},
   "source": [
    "### Шаг 7. Показать последние элементы\n",
    "\n",
    "Используйте метод `tail()`"
   ]
  },
  {
   "cell_type": "code",
   "execution_count": null,
   "metadata": {},
   "outputs": [],
   "source": []
  },
  {
   "cell_type": "markdown",
   "metadata": {},
   "source": [
    "### Шаг 8. Покажите 3500 строку\n",
    "\n",
    "Используйте свойство `loc[]`\n",
    "\n",
    "Пример: `df.loc[100]`"
   ]
  },
  {
   "cell_type": "code",
   "execution_count": null,
   "metadata": {},
   "outputs": [],
   "source": []
  },
  {
   "cell_type": "markdown",
   "metadata": {},
   "source": [
    "### Шаг 9. Покажите строки с 2490 по 2500\n",
    "\n",
    "Используйте свойство `loc[]`\n",
    "\n",
    "Пример: `df.loc[30:40]`"
   ]
  },
  {
   "cell_type": "code",
   "execution_count": null,
   "metadata": {},
   "outputs": [],
   "source": []
  },
  {
   "cell_type": "markdown",
   "metadata": {},
   "source": [
    "### Шаг 10. Покажите содержимое колонки `age_standardized_death_rate_per_100k_both_sexes`\n",
    "\n",
    "Пример: `df.loc[:, \"имя_колонки\"]`"
   ]
  },
  {
   "cell_type": "code",
   "execution_count": null,
   "metadata": {},
   "outputs": [],
   "source": []
  },
  {
   "cell_type": "markdown",
   "metadata": {},
   "source": [
    "### Шаг 11. Выведите содержимое колонок `year`, `age_standardized_death_rate_per_100k_both_sexes`, `age_standardized_death_rate_per_100k_male`, `crude_death_rate_per_100k_male`\n",
    "\n",
    "Пример: `df.loc[:, [\"имя_колонки_1\", \"имя_колонки_2\", \"имя_колонки_3\"]]`"
   ]
  },
  {
   "cell_type": "code",
   "execution_count": null,
   "metadata": {},
   "outputs": [],
   "source": []
  },
  {
   "cell_type": "markdown",
   "metadata": {},
   "source": [
    "### Шаг 12. Найдите минимальную стандартизованную смертность среди женщин\n",
    "\n",
    "Используйте метод `min()`"
   ]
  },
  {
   "cell_type": "code",
   "execution_count": null,
   "metadata": {},
   "outputs": [],
   "source": []
  },
  {
   "cell_type": "markdown",
   "metadata": {},
   "source": [
    "### Шаг 13. Найдите средние значения для всех величин стандартизированных смертностей\n",
    "\n",
    "Пример: `df.loc[:, [\"имя_колонки_1\", \"имя_колонки_2\"]].mean()`"
   ]
  },
  {
   "cell_type": "code",
   "execution_count": null,
   "metadata": {},
   "outputs": [],
   "source": []
  },
  {
   "cell_type": "markdown",
   "metadata": {},
   "source": [
    "### Шаг 14. Выведите минимальное, максимальное и среднее значения для нестандартизированной женской смертности\n",
    "\n",
    "Пример: `df.loc[:, [\"имя_колонки_1\", \"имя_колонки_2\"]].aggregate([\"min\", \"max\", \"mean\"])`"
   ]
  },
  {
   "cell_type": "code",
   "execution_count": null,
   "metadata": {},
   "outputs": [],
   "source": []
  },
  {
   "cell_type": "markdown",
   "metadata": {},
   "source": [
    "### Шаг 15. Посчитайте какое количество стран представлено в наборе данных\n",
    "\n",
    "Используйте метод `nunique()`"
   ]
  },
  {
   "cell_type": "code",
   "execution_count": null,
   "metadata": {},
   "outputs": [],
   "source": []
  },
  {
   "cell_type": "markdown",
   "metadata": {},
   "source": [
    "### Шаг 16. Выведите список стран, представленных в наборе данных\n",
    "\n",
    "Используйте метод `unique()`"
   ]
  },
  {
   "cell_type": "code",
   "execution_count": null,
   "metadata": {},
   "outputs": [],
   "source": []
  },
  {
   "cell_type": "markdown",
   "metadata": {},
   "source": [
    "### Шаг 17. Выведите среднее значение стандартизированной смертности для обоих полов по странам\n",
    "\n",
    "Пример: `df.loc[:, [\"имя_колонки_1\", \"имя_колонки_2\", \"имя_колонки_3\"]].groupby(\"имя_колонки_1\").aggregate(\"mean\")`"
   ]
  },
  {
   "cell_type": "code",
   "execution_count": null,
   "metadata": {},
   "outputs": [],
   "source": []
  },
  {
   "cell_type": "markdown",
   "metadata": {},
   "source": [
    "### Шаг 18. Выведите значения только для России\n",
    "\n",
    "Пример: `df.query(\"имя_колонки == значение\")`"
   ]
  },
  {
   "cell_type": "code",
   "execution_count": null,
   "metadata": {},
   "outputs": [],
   "source": []
  },
  {
   "cell_type": "markdown",
   "metadata": {},
   "source": [
    "### Шаг 19. Определите год наибольшей мужской стандартизированной смертности в России\n",
    "\n",
    "Пример 1. Сортировка по возрастанию: `df.query(\"имя_колонки_1 == значение\").sort_values(\"имя_колонки_2\")`\n",
    "\n",
    "Пример 2. Сортировка по убыванию: `df.query(\"имя_колонки_1 == значение\").sort_values(\"имя_колонки_2\", ascending = False)`"
   ]
  },
  {
   "cell_type": "code",
   "execution_count": null,
   "metadata": {},
   "outputs": [],
   "source": []
  },
  {
   "cell_type": "markdown",
   "metadata": {},
   "source": [
    "### Шаг 20. Вычислите соотношение мужской стандартизированной смертности к женской\n",
    "\n",
    "Пример. `df.loc[:, \"результат\"] = df.loc[:, \"делимое\"] / df.loc[:, \"делитель\"]`"
   ]
  },
  {
   "cell_type": "code",
   "execution_count": null,
   "metadata": {},
   "outputs": [],
   "source": []
  }
 ],
 "metadata": {
  "kernelspec": {
   "display_name": "data_science",
   "language": "python",
   "name": "python3"
  },
  "language_info": {
   "codemirror_mode": {
    "name": "ipython",
    "version": 3
   },
   "file_extension": ".py",
   "mimetype": "text/x-python",
   "name": "python",
   "nbconvert_exporter": "python",
   "pygments_lexer": "ipython3",
   "version": "3.11.0"
  },
  "orig_nbformat": 4
 },
 "nbformat": 4,
 "nbformat_minor": 2
}
