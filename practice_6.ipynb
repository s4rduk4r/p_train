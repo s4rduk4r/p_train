{
 "cells": [
  {
   "cell_type": "markdown",
   "metadata": {},
   "source": [
    "# Практика 6\n",
    "\n",
    "## Визуализация в seaborne\n",
    "\n",
    "### Шаг 1. Импорт библиотек\n",
    "\n",
    "```python\n",
    "import pandas as pd\n",
    "import matplotlib.pyplot as plt\n",
    "import seaborn as sns\n",
    "```"
   ]
  },
  {
   "cell_type": "code",
   "execution_count": null,
   "metadata": {},
   "outputs": [],
   "source": []
  },
  {
   "cell_type": "markdown",
   "metadata": {},
   "source": [
    "### Шаг 2. Загрузка набора данных\n",
    "Загрузите набор данных `RuMedBench`$^1$ и поместите файл в ту же папку, что и файл с заданиями. Ссылка - [https://zenodo.org/record/5765873#.Ys7cNBNBziU](\"https://zenodo.org/record/5765873#.Ys7cNBNBziU\")\n",
    "\n",
    "Структура набора данных:\n",
    "\n",
    "    - `new_patient_id` – идентификатор пациента\n",
    "    - `new_event_id` – идентификатор посещения\n",
    "    - `new_event_time` – дата и время посещения\n",
    "    - `symptoms` – жалобы пациента, внесённые врачём\n",
    "    - `anamnesis` – анамнез пациента\n",
    "    - `ICD10` – присвоенный диагноз по МКБ-10\n",
    "\n",
    "---\n",
    "$^1$ https://arxiv.org/abs/2201.06499"
   ]
  },
  {
   "cell_type": "markdown",
   "metadata": {},
   "source": [
    "### Шаг 3. Загрузить набор данных в переменную `rmb`\n",
    "\n",
    "Т.к. набор данных хранится в TSV-формате, то в методе `pd.read_csv()` помимо пути к файлу необходимо указать аргумент `sep='\\t'` для указания использования символа табуляции вместо запятой при чтении структуры таблицы.\n",
    "\n",
    "Пример:\n",
    "```python\n",
    "df = pd.read_csv(\"путь/к/файлу.tsv\", sep=\"\\t\")\n",
    "```"
   ]
  },
  {
   "cell_type": "code",
   "execution_count": null,
   "metadata": {},
   "outputs": [],
   "source": []
  },
  {
   "cell_type": "markdown",
   "metadata": {},
   "source": [
    "### Шаг 4. Получить информацию о наборе данных"
   ]
  },
  {
   "cell_type": "code",
   "execution_count": null,
   "metadata": {},
   "outputs": [],
   "source": []
  },
  {
   "cell_type": "markdown",
   "metadata": {},
   "source": [
    "### Шаг 5. Вывести случайные 10 значений\n",
    "\n",
    "Пример:\n",
    "```python\n",
    "df.sample(10)\n",
    "```"
   ]
  },
  {
   "cell_type": "code",
   "execution_count": null,
   "metadata": {},
   "outputs": [],
   "source": []
  },
  {
   "cell_type": "markdown",
   "metadata": {},
   "source": [
    "### Шаг 6. Привести типы данных к корректным\n",
    "\n",
    "Пример:\n",
    "```python\n",
    "# Попытка автоматического приведения типов данных\n",
    "df = df.convert_dtypes()\n",
    "# Для дат и времени необходимо использовать специальную функцию\n",
    "df[\"колонка_с_датами\"] = pd.to_datetime(df[\"колонка_с_датами\"])\n",
    "```"
   ]
  },
  {
   "cell_type": "code",
   "execution_count": null,
   "metadata": {},
   "outputs": [],
   "source": []
  },
  {
   "cell_type": "markdown",
   "metadata": {},
   "source": [
    "### Шаг 7. Удостовериться, что все колонки имеют корректный тип данных\n",
    "\n",
    "Пример: `df.dtypes`"
   ]
  },
  {
   "cell_type": "code",
   "execution_count": null,
   "metadata": {},
   "outputs": [],
   "source": []
  },
  {
   "cell_type": "markdown",
   "metadata": {},
   "source": [
    "### Шаг 8. Найти 10 самых частых диагнозов по МКБ-10 с симптомом 'головная боль'\n",
    "\n",
    "Пример:\n",
    "```python\n",
    "df_icd10 = df.query(\"symptoms.str.lower().str.find('озноб') != -1\").loc[:, \"icd10\"].value_counts().head(10).reset_index()\n",
    "df_icd10\n",
    "```"
   ]
  },
  {
   "cell_type": "code",
   "execution_count": null,
   "metadata": {},
   "outputs": [],
   "source": []
  },
  {
   "cell_type": "markdown",
   "metadata": {},
   "source": [
    "### Шаг 9. Построить столбчатую диаграмму по найденным на прошлом шаге данным\n",
    "\n",
    "Метод `catplot()` является обёрткой над специализированными методами построения различных типов диаграмм. \n",
    "Тип диаграммы указывается в аргументе `kind` и может принимать значения: \"strip\", \"swarm\", \"box\", \"violin\", \"boxen\", \"point\", \"bar\", \"count\"/\n",
    "\n",
    "Аргументы `x`, `y`, `hue` определяют какие из колонок датафрейма будут использоваться как отсчёты по соответствующим осям или в роли цветового индикатора группы/кластера на диаграмме. \n",
    "\n",
    "Пример:\n",
    "\n",
    "```python\n",
    "sns.catplot(\n",
    "    data=df_icd10,\n",
    "    x = \"icd10\",\n",
    "    y = \"count\",\n",
    "    kind = \"bar\"\n",
    ")\n",
    "```"
   ]
  },
  {
   "cell_type": "code",
   "execution_count": null,
   "metadata": {},
   "outputs": [],
   "source": []
  },
  {
   "cell_type": "markdown",
   "metadata": {},
   "source": [
    "### Шаг 10. Изменить внешний вид диаграммы\n",
    "\n",
    "#### 10.1. Цветовая палитра\n",
    "Светлые палитры начинаются с `light:`, тёмные палитры начинаются с `dark:`. Чтобы обратить порядок цветов, необходимо указать суффикс `_r`.\n",
    "\n",
    "Пример:\n",
    "1. Светло-зелёная палитра\n",
    "\n",
    "```python\n",
    "sns.catplot(\n",
    "    data=df_icd10,\n",
    "    x = \"icd10\",\n",
    "    y = \"count\",\n",
    "    kind = \"bar\",\n",
    "    palette = \"light:green\"\n",
    ")\n",
    "```"
   ]
  },
  {
   "cell_type": "code",
   "execution_count": null,
   "metadata": {},
   "outputs": [],
   "source": []
  },
  {
   "cell_type": "markdown",
   "metadata": {},
   "source": [
    "\n",
    "2. Тёмно-синяя палитра\n",
    "```python\n",
    "sns.catplot(\n",
    "    data=df_icd10,\n",
    "    x = \"icd10\",\n",
    "    y = \"count\",\n",
    "    kind = \"bar\",\n",
    "    palette = \"dark:blue\"\n",
    ")\n",
    "```"
   ]
  },
  {
   "cell_type": "code",
   "execution_count": null,
   "metadata": {},
   "outputs": [],
   "source": []
  },
  {
   "cell_type": "markdown",
   "metadata": {},
   "source": [
    "\n",
    "3. Тёмно-красная палитра с обратным порядком цветов\n",
    "```python\n",
    "sns.catplot(\n",
    "    data=df_icd10,\n",
    "    x = \"icd10\",\n",
    "    y = \"count\",\n",
    "    kind = \"bar\",\n",
    "    palette = \"dark:red_r\"\n",
    ")\n",
    "```"
   ]
  },
  {
   "cell_type": "code",
   "execution_count": null,
   "metadata": {},
   "outputs": [],
   "source": []
  },
  {
   "cell_type": "markdown",
   "metadata": {},
   "source": [
    "#### 10.2. Изменить подпись осей\n",
    "\n",
    "**По оси абсцисс:** нет подписи\n",
    "\n",
    "**По оси ординат:** `\"Случаев, ед.\"`\n",
    "\n",
    "Пример:\n",
    "```python\n",
    "g = sns.catplot(\n",
    "    data=df_icd10,\n",
    "    x = \"icd10\",\n",
    "    y = \"count\",\n",
    "    kind=\"bar\"\n",
    ")\n",
    "\n",
    "g.set_axis_labels(\"Подпись_по_оси_x\", \"Подпись_по_оси_y\")\n",
    "\n",
    "plt.show()\n",
    "```"
   ]
  },
  {
   "cell_type": "code",
   "execution_count": null,
   "metadata": {},
   "outputs": [],
   "source": []
  },
  {
   "cell_type": "markdown",
   "metadata": {},
   "source": [
    "#### 10.3. Указать заголовок графика\n",
    "\n",
    "**Текст заголовка:** \"Наиболее частые диагнозы с симптомом головной боли\"\n",
    "\n",
    "Пример:\n",
    "```python\n",
    "g = sns.catplot(\n",
    "    data=df_icd10,\n",
    "    x = \"icd10\",\n",
    "    y = \"count\",\n",
    "    kind=\"bar\"\n",
    ")\n",
    "\n",
    "g.set_axis_labels(\"\", \"Случаев, ед.\")\n",
    "\n",
    "plt.title(\"Наиболее частые диагнозы с симптомом 'озноб'\")\n",
    "\n",
    "plt.show()\n",
    "```"
   ]
  },
  {
   "cell_type": "code",
   "execution_count": null,
   "metadata": {},
   "outputs": [],
   "source": []
  },
  {
   "cell_type": "markdown",
   "metadata": {},
   "source": [
    "#### 10.4. Изменить физический размер графика\n",
    "\n",
    "По-умолчанию размеры задаются в дюймах aka [retard units](https://tononretard.com/), поэтому, для установки размеров изображения в сантиметрах, длины необходимо делить на 2.54.\n",
    "\n",
    "Размеры задаются для объекта `Figure`, путём вызова методов `set_figheight()` для высоты, и, `set_figwidth()` для ширины.\n",
    "\n",
    "**Примеры:**\n",
    "1. Имперская система\n",
    "```python\n",
    "g = sns.catplot(\n",
    "    data=df_icd10,\n",
    "    x = \"icd10\",\n",
    "    y = \"count\",\n",
    "    kind=\"bar\"\n",
    ")\n",
    "\n",
    "g.set_axis_labels(\"\", \"Случаев, ед.\")\n",
    "\n",
    "plt.title(\"Наиболее частые диагнозы с симптомом головной боли\")\n",
    "plt.gcf().set_figheight(5)\n",
    "plt.gcf().set_figwidth(10)\n",
    "\n",
    "plt.show()\n",
    "```"
   ]
  },
  {
   "cell_type": "code",
   "execution_count": null,
   "metadata": {},
   "outputs": [],
   "source": []
  },
  {
   "cell_type": "markdown",
   "metadata": {},
   "source": [
    "\n",
    "2. Система СИ\n",
    "```python\n",
    "g = sns.catplot(\n",
    "    data=df_icd10,\n",
    "    x = \"icd10\",\n",
    "    y = \"count\",\n",
    "    kind=\"bar\"\n",
    ")\n",
    "\n",
    "g.set_axis_labels(\"\", \"Случаев, ед.\")\n",
    "\n",
    "plt.title(\"Наиболее частые диагнозы с симптомом головной боли\")\n",
    "plt.gcf().set_figheight(12 / 2.54)\n",
    "plt.gcf().set_figwidth(25 / 2.54)\n",
    "\n",
    "plt.show()\n",
    "```"
   ]
  },
  {
   "cell_type": "code",
   "execution_count": null,
   "metadata": {},
   "outputs": [],
   "source": []
  },
  {
   "cell_type": "markdown",
   "metadata": {},
   "source": [
    "### Шаг 11. Итоговый вид диаграммы\n",
    "\n",
    "Постройте диаграмму 10 наиболее частых диагнозов по МКБ-10, в которых фигурирует симптом головной боли.\n",
    "Используйте тёмно-красную цветовую палитру. Диаграмма должна иметь информативный заголовок и подписанные оси.\n",
    "Размер диаграммы должен быть 15см х 32см"
   ]
  },
  {
   "cell_type": "code",
   "execution_count": null,
   "metadata": {},
   "outputs": [],
   "source": []
  }
 ],
 "metadata": {
  "kernelspec": {
   "display_name": "data_science",
   "language": "python",
   "name": "python3"
  },
  "language_info": {
   "codemirror_mode": {
    "name": "ipython",
    "version": 3
   },
   "file_extension": ".py",
   "mimetype": "text/x-python",
   "name": "python",
   "nbconvert_exporter": "python",
   "pygments_lexer": "ipython3",
   "version": "3.11.0"
  },
  "orig_nbformat": 4
 },
 "nbformat": 4,
 "nbformat_minor": 2
}
